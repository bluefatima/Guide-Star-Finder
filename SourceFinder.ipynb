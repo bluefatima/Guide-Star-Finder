{
 "cells": [
  {
   "cell_type": "code",
   "execution_count": 2,
   "metadata": {
    "collapsed": false
   },
   "outputs": [
    {
     "name": "stdout",
     "output_type": "stream",
     "text": [
      "Writing SourceFinder.py\n"
     ]
    }
   ],
   "source": [
    "%%writefile SourceFinder.py\n",
    "\n",
    "from PyAstronomy import pyasl\n",
    "import csv\n",
    "from astroquery.simbad import Simbad\n",
    "from astropy import coordinates\n",
    "import astropy.units as u\n",
    "from astropy.coordinates import SkyCoord\n",
    "from astropy.table import Table\n",
    "from Guide_Star_Functions import angnorm, J2000, locsidtime, airmass2alt\n",
    "\n",
    "##Read in TGAS data to query\n",
    "data = []    \n",
    "for i in range(16):\n",
    "    if i < 10:\n",
    "        filename = \"TGAS/TgasSource_000-000-00\" + str(i) +\".csv\"\n",
    "    else: \n",
    "        filename = \"TGAS/TgasSource_000-000-0\" + str(i) +\".csv\"\n",
    "    f = open(filename, 'r')\n",
    "    reader = csv.reader(f)\n",
    "    for row in reader:\n",
    "        if 'ra' not in row:\n",
    "            data.append([row[1], row[6], row[8], row[12], row[14], row[53]])\n",
    "\n",
    "##Reads in variables from input file\n",
    "\n",
    "with open('input.txt', 'r') as f:\n",
    "    read_data = f.read()\n",
    "a = read_data.split(\"\\n\")\n",
    "LAT = float((a[2].split(\"= \")[1].split(\" \")[0]))\n",
    "LON = float((a[3].split(\"= \")[1].split(\" \")[0]))\n",
    "TimeZone = float((a[4].split(\"= \")[1].split(\" \")[0]))\n",
    "year = float((a[8].split(\"= \")[1].split(\" \")[0]))\n",
    "month = float((a[9].split(\"= \")[1].split(\" \")[0]))\n",
    "day = float((a[10].split(\"= \")[1].split(\" \")[0]))\n",
    "loc_hour = float((a[11].split(\"= \")[1].split(\" \")[0]))\n",
    "loc_minute = float((a[12].split(\"= \")[1].split(\" \")[0]))\n",
    "max_X = float((a[16].split(\"= \")[1].split(\" \")[0]))\n",
    "max_g_mag = float((a[17].split(\"= \")[1].split(\" \")[0]))\n",
    "output_file_name = ((a[19].split(\"= \")[1].split(\" \")[0]))\n",
    "\n",
    "##########################################################\n",
    "\n",
    "\n",
    "#Calculates RA, Dec, and search radius for location/time/airmass \n",
    "UT_hour = loc_hour - TimeZone\n",
    "if UT_hour >=24:\n",
    "    UT_hour -= 24\n",
    "    day += 1    \n",
    "d = J2000(year, month, day, UT_hour, loc_minute)\n",
    "UT = UT_hour + (loc_minute / 60)\n",
    "LST = locsidtime(d, LON, UT)\n",
    "z = airmass2alt(max_X) \n",
    "\n",
    "#Queries TGAS for stars that fit above parameters\n",
    "search = []\n",
    "for star in data:\n",
    "    if ((float(star[1])-LST)**2 + (float(star[2])-LAT)**2) < z and float(star[5])<max_g_mag:\n",
    "        search.append(star)\n",
    "        \n",
    "#Query Simbad for magnitudes and spectral data, organizes it with TGAS data\n",
    "final_list = [] \n",
    "labels = [\"ID\", \"RA\", \"Dec\", \"RA_pm\", \"Dec_pm\", \"B_mag\", \"V_mag\", \"g_mag\", \"Spec_Type\"]\n",
    "\n",
    "for i in range(len(search)):\n",
    "    sexa = pyasl.coordsDegToSexa(float(search[i][1]), float(search[i][2])) #convert to sexagesimal\n",
    "    c = SkyCoord(sexa, unit=(u.hourangle, u.deg))\n",
    "    r = 5 * u.arcsecond\n",
    "    customSimbad = Simbad()\n",
    "    customSimbad.add_votable_fields('sptype', 'flux(B)', 'flux(V)')\n",
    "    customSimbad.remove_votable_fields('coordinates')\n",
    "    result_table = customSimbad.query_region(c, radius=r)\n",
    "    \n",
    "    main_id = (result_table[0]['MAIN_ID']).decode(\"utf-8\")\n",
    "    sp_type = (result_table[0]['SP_TYPE']).decode(\"utf-8\")\n",
    "    B_mag   = (result_table[0]['FLUX_B'])\n",
    "    V_mag   = (result_table[0]['FLUX_V'])\n",
    "\n",
    "    a = search[i][1:]  ##Arrange simbad and gaia data in a list for output\n",
    "    a.insert(0, main_id)\n",
    "    a.insert(5, str(B_mag))\n",
    "    a.insert(6, str(V_mag))\n",
    "    a.append(sp_type)\n",
    "    a[1] = (sexa.split(\"  \")[0])\n",
    "    a[2] = (sexa.split(\"  \")[1])\n",
    "\n",
    "    final_list.append(a)\n",
    "    \n",
    "#Writes TGAS and Simbad data to a .txt file     \n",
    "f = open(output_file_name, 'w')\n",
    "f.writelines([\"     \".join(labels), \"\\n\"])\n",
    "for line in final_list:\n",
    "    text_line = \"     \".join(line)\n",
    "    f.writelines([text_line, \"\\n\"])\n",
    "f.close()\n",
    "\n",
    "print(output_file_name, \" created.  Number of sources:\", len(search) )"
   ]
  },
  {
   "cell_type": "code",
   "execution_count": null,
   "metadata": {
    "collapsed": false
   },
   "outputs": [],
   "source": []
  },
  {
   "cell_type": "code",
   "execution_count": null,
   "metadata": {
    "collapsed": false
   },
   "outputs": [],
   "source": []
  },
  {
   "cell_type": "code",
   "execution_count": 4,
   "metadata": {
    "collapsed": false
   },
   "outputs": [],
   "source": []
  },
  {
   "cell_type": "code",
   "execution_count": null,
   "metadata": {
    "collapsed": false
   },
   "outputs": [],
   "source": []
  },
  {
   "cell_type": "code",
   "execution_count": null,
   "metadata": {
    "collapsed": false
   },
   "outputs": [],
   "source": []
  },
  {
   "cell_type": "code",
   "execution_count": null,
   "metadata": {
    "collapsed": true
   },
   "outputs": [],
   "source": []
  },
  {
   "cell_type": "code",
   "execution_count": null,
   "metadata": {
    "collapsed": true
   },
   "outputs": [],
   "source": []
  }
 ],
 "metadata": {
  "anaconda-cloud": {},
  "kernelspec": {
   "display_name": "Python [conda root]",
   "language": "python",
   "name": "conda-root-py"
  },
  "language_info": {
   "codemirror_mode": {
    "name": "ipython",
    "version": 3
   },
   "file_extension": ".py",
   "mimetype": "text/x-python",
   "name": "python",
   "nbconvert_exporter": "python",
   "pygments_lexer": "ipython3",
   "version": "3.5.2"
  }
 },
 "nbformat": 4,
 "nbformat_minor": 0
}
